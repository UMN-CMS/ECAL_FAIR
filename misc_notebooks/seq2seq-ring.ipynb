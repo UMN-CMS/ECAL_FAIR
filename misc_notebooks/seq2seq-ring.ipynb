{
 "cells": [
  {
   "cell_type": "markdown",
   "id": "featured-filter",
   "metadata": {},
   "source": [
    "This is the notebook to run the seq2seq network. It starts with a preprocessed file with calib being the value to predict, and int_deliv_inv_ub and calib_time being the best values to use. It's important to note that at this point, some of the lumi measurements are taken a bit far from the calibration times. this can be seen by the difference between the lumi-section time and the calib_time values. The best data probably just consistents of the points where these are close.\n",
    "\n",
    "All data is in its original units.\n",
    "\n",
    "Also, I'm running this in the Python 3.7.1 Kernel"
   ]
  },
  {
   "cell_type": "code",
   "execution_count": 1,
   "id": "bizarre-protocol",
   "metadata": {},
   "outputs": [],
   "source": [
    "#import the stuff\n",
    "import pandas as pd #dataframes etc\n",
    "import matplotlib.pyplot as plt #plotting\n",
    "import numpy as np\n",
    "from sklearn import preprocessing\n",
    "from common.utils import TimeSeriesTensor, create_evaluation_df, mape, scale_shrinker\n",
    "#now we bring in the keras tensorflow model\n",
    "from tensorflow.keras.callbacks import EarlyStopping\n",
    "from tensorflow.keras.layers import GRU, Dense, LSTM, SimpleRNN\n",
    "from tensorflow.keras.models import Model, Sequential\n",
    "from tensorflow.keras.regularizers import l1, l2\n",
    "from tensorflow.keras.callbacks import LearningRateScheduler\n",
    "from tensorflow.keras.losses import MeanSquaredLogarithmicError, MeanSquaredError\n",
    "from tensorflow.keras import Input\n",
    "from tensorflow.keras.utils import plot_model\n",
    "\n",
    "import tensorflow.keras\n",
    "import pydot\n",
    "import pydotplus\n",
    "from pydotplus import graphviz\n",
    "from tensorflow.keras.utils import plot_model\n",
    "from tensorflow.keras.utils import model_to_dot\n",
    "tensorflow.keras.utils.pydot = pydot\n",
    "from tensorflow.keras.utils import plot_model    \n",
    "\n",
    "\n",
    "from math import pow, floor\n",
    "import time"
   ]
  },
  {
   "cell_type": "code",
   "execution_count": 2,
   "id": "aboriginal-walker",
   "metadata": {},
   "outputs": [],
   "source": [
    "#load the data\n",
    "data = pd.read_csv('2016_ring66_comb.csv', index_col=0)\n",
    "\n",
    "data.index = pd.to_datetime(data.index)"
   ]
  },
  {
   "cell_type": "code",
   "execution_count": 3,
   "id": "eligible-discipline",
   "metadata": {},
   "outputs": [],
   "source": [
    "#lets do some massaging\n",
    "import traces as ts\n",
    "\n",
    "#average over 6 hours\n",
    "sampling=3600\n",
    "avg_window = sampling*6\n",
    "#windows are in seconds\n",
    "calib_50 = ts.TimeSeries(data['calib_50'])\\\n",
    "                                .moving_average(sampling, window_size=avg_window, pandas=True)\n",
    "calib_10 = ts.TimeSeries(data['calib_10'])\\\n",
    "                                .moving_average(sampling, window_size=avg_window, pandas=True)\n",
    "calib_90 = ts.TimeSeries(data['calib_90'])\\\n",
    "                                .moving_average(sampling, window_size=avg_window, pandas=True)\n",
    "int_lumi = ts.TimeSeries(data['int_lumi'])\\\n",
    "                                .moving_average(sampling, window_size=avg_window, pandas=True)\n",
    "\n",
    "#take the differences\n",
    "calib_10 = calib_10.diff().dropna()\n",
    "calib_50 = calib_50.diff().dropna()\n",
    "calib_90 = calib_90.diff().dropna()\n",
    "int_lumi = int_lumi.diff().dropna()"
   ]
  },
  {
   "cell_type": "code",
   "execution_count": 4,
   "id": "attended-variance",
   "metadata": {},
   "outputs": [
    {
     "data": {
      "text/html": [
       "<div>\n",
       "<style scoped>\n",
       "    .dataframe tbody tr th:only-of-type {\n",
       "        vertical-align: middle;\n",
       "    }\n",
       "\n",
       "    .dataframe tbody tr th {\n",
       "        vertical-align: top;\n",
       "    }\n",
       "\n",
       "    .dataframe thead th {\n",
       "        text-align: right;\n",
       "    }\n",
       "</style>\n",
       "<table border=\"1\" class=\"dataframe\">\n",
       "  <thead>\n",
       "    <tr style=\"text-align: right;\">\n",
       "      <th></th>\n",
       "      <th>int_lumi</th>\n",
       "      <th>calib_50</th>\n",
       "      <th>calib_90</th>\n",
       "      <th>calib_10</th>\n",
       "    </tr>\n",
       "  </thead>\n",
       "  <tbody>\n",
       "    <tr>\n",
       "      <th>2016-03-10 12:43:44</th>\n",
       "      <td>0.0</td>\n",
       "      <td>0.000013</td>\n",
       "      <td>-0.000061</td>\n",
       "      <td>0.000111</td>\n",
       "    </tr>\n",
       "    <tr>\n",
       "      <th>2016-03-10 13:43:44</th>\n",
       "      <td>0.0</td>\n",
       "      <td>0.000008</td>\n",
       "      <td>-0.000036</td>\n",
       "      <td>0.000067</td>\n",
       "    </tr>\n",
       "    <tr>\n",
       "      <th>2016-03-10 14:43:44</th>\n",
       "      <td>0.0</td>\n",
       "      <td>0.000005</td>\n",
       "      <td>-0.000024</td>\n",
       "      <td>0.000044</td>\n",
       "    </tr>\n",
       "    <tr>\n",
       "      <th>2016-03-10 15:43:44</th>\n",
       "      <td>0.0</td>\n",
       "      <td>0.000026</td>\n",
       "      <td>-0.000121</td>\n",
       "      <td>0.000222</td>\n",
       "    </tr>\n",
       "    <tr>\n",
       "      <th>2016-03-10 16:43:44</th>\n",
       "      <td>0.0</td>\n",
       "      <td>0.000000</td>\n",
       "      <td>0.000000</td>\n",
       "      <td>0.000000</td>\n",
       "    </tr>\n",
       "    <tr>\n",
       "      <th>...</th>\n",
       "      <td>...</td>\n",
       "      <td>...</td>\n",
       "      <td>...</td>\n",
       "      <td>...</td>\n",
       "    </tr>\n",
       "    <tr>\n",
       "      <th>2016-12-05 10:43:44</th>\n",
       "      <td>0.0</td>\n",
       "      <td>0.000000</td>\n",
       "      <td>0.000000</td>\n",
       "      <td>0.000000</td>\n",
       "    </tr>\n",
       "    <tr>\n",
       "      <th>2016-12-05 11:43:44</th>\n",
       "      <td>0.0</td>\n",
       "      <td>-0.000632</td>\n",
       "      <td>-0.000779</td>\n",
       "      <td>-0.000346</td>\n",
       "    </tr>\n",
       "    <tr>\n",
       "      <th>2016-12-05 12:43:44</th>\n",
       "      <td>0.0</td>\n",
       "      <td>-0.000833</td>\n",
       "      <td>-0.001623</td>\n",
       "      <td>0.000512</td>\n",
       "    </tr>\n",
       "    <tr>\n",
       "      <th>2016-12-05 13:43:44</th>\n",
       "      <td>0.0</td>\n",
       "      <td>-0.000831</td>\n",
       "      <td>-0.001622</td>\n",
       "      <td>0.000511</td>\n",
       "    </tr>\n",
       "    <tr>\n",
       "      <th>2016-12-05 14:43:44</th>\n",
       "      <td>0.0</td>\n",
       "      <td>-0.000831</td>\n",
       "      <td>-0.001622</td>\n",
       "      <td>0.000511</td>\n",
       "    </tr>\n",
       "  </tbody>\n",
       "</table>\n",
       "<p>6483 rows × 4 columns</p>\n",
       "</div>"
      ],
      "text/plain": [
       "                     int_lumi  calib_50  calib_90  calib_10\n",
       "2016-03-10 12:43:44       0.0  0.000013 -0.000061  0.000111\n",
       "2016-03-10 13:43:44       0.0  0.000008 -0.000036  0.000067\n",
       "2016-03-10 14:43:44       0.0  0.000005 -0.000024  0.000044\n",
       "2016-03-10 15:43:44       0.0  0.000026 -0.000121  0.000222\n",
       "2016-03-10 16:43:44       0.0  0.000000  0.000000  0.000000\n",
       "...                       ...       ...       ...       ...\n",
       "2016-12-05 10:43:44       0.0  0.000000  0.000000  0.000000\n",
       "2016-12-05 11:43:44       0.0 -0.000632 -0.000779 -0.000346\n",
       "2016-12-05 12:43:44       0.0 -0.000833 -0.001623  0.000512\n",
       "2016-12-05 13:43:44       0.0 -0.000831 -0.001622  0.000511\n",
       "2016-12-05 14:43:44       0.0 -0.000831 -0.001622  0.000511\n",
       "\n",
       "[6483 rows x 4 columns]"
      ]
     },
     "execution_count": 4,
     "metadata": {},
     "output_type": "execute_result"
    }
   ],
   "source": [
    "#build the new dataframe\n",
    "frame = {'int_lumi':int_lumi,'calib_50':calib_50,'calib_90':calib_90,'calib_10':calib_10}\n",
    "\n",
    "massaged_data = pd.DataFrame(frame)\n",
    "\n",
    "massaged_data"
   ]
  },
  {
   "cell_type": "code",
   "execution_count": 5,
   "id": "breeding-raising",
   "metadata": {},
   "outputs": [
    {
     "data": {
      "text/plain": [
       "648"
      ]
     },
     "execution_count": 5,
     "metadata": {},
     "output_type": "execute_result"
    }
   ],
   "source": [
    "#let's split off the data with the last 1/10ths for testing\n",
    "int(massaged_data.shape[0]/10)"
   ]
  },
  {
   "cell_type": "code",
   "execution_count": 6,
   "id": "suitable-victor",
   "metadata": {},
   "outputs": [],
   "source": [
    "train = massaged_data.iloc[:massaged_data.shape[0]-int(massaged_data.shape[0]/10),:]\n",
    "test = massaged_data.iloc[-int(massaged_data.shape[0]/10):,:]"
   ]
  },
  {
   "cell_type": "code",
   "execution_count": 7,
   "id": "american-luxury",
   "metadata": {},
   "outputs": [],
   "source": [
    "#for now we'll only train on the median\n",
    "train = train.drop(['calib_90','calib_10'],axis=1)\n",
    "test = test.drop(['calib_90','calib_10'],axis=1)"
   ]
  },
  {
   "cell_type": "code",
   "execution_count": 8,
   "id": "spread-wilderness",
   "metadata": {},
   "outputs": [
    {
     "data": {
      "text/html": [
       "<div>\n",
       "<style scoped>\n",
       "    .dataframe tbody tr th:only-of-type {\n",
       "        vertical-align: middle;\n",
       "    }\n",
       "\n",
       "    .dataframe tbody tr th {\n",
       "        vertical-align: top;\n",
       "    }\n",
       "\n",
       "    .dataframe thead th {\n",
       "        text-align: right;\n",
       "    }\n",
       "</style>\n",
       "<table border=\"1\" class=\"dataframe\">\n",
       "  <thead>\n",
       "    <tr style=\"text-align: right;\">\n",
       "      <th></th>\n",
       "      <th>int_lumi</th>\n",
       "      <th>calib_50</th>\n",
       "    </tr>\n",
       "  </thead>\n",
       "  <tbody>\n",
       "    <tr>\n",
       "      <th>count</th>\n",
       "      <td>5.447000e+03</td>\n",
       "      <td>5.835000e+03</td>\n",
       "    </tr>\n",
       "    <tr>\n",
       "      <th>mean</th>\n",
       "      <td>-1.566353e-16</td>\n",
       "      <td>1.651309e-16</td>\n",
       "    </tr>\n",
       "    <tr>\n",
       "      <th>std</th>\n",
       "      <td>1.000092e+00</td>\n",
       "      <td>1.000086e+00</td>\n",
       "    </tr>\n",
       "    <tr>\n",
       "      <th>min</th>\n",
       "      <td>-5.880146e+00</td>\n",
       "      <td>-4.707854e+00</td>\n",
       "    </tr>\n",
       "    <tr>\n",
       "      <th>25%</th>\n",
       "      <td>-1.442933e-01</td>\n",
       "      <td>2.315707e-08</td>\n",
       "    </tr>\n",
       "    <tr>\n",
       "      <th>50%</th>\n",
       "      <td>4.354416e-02</td>\n",
       "      <td>1.704243e-07</td>\n",
       "    </tr>\n",
       "    <tr>\n",
       "      <th>75%</th>\n",
       "      <td>4.335568e-01</td>\n",
       "      <td>1.429298e-02</td>\n",
       "    </tr>\n",
       "    <tr>\n",
       "      <th>max</th>\n",
       "      <td>6.659243e+00</td>\n",
       "      <td>4.707854e+00</td>\n",
       "    </tr>\n",
       "  </tbody>\n",
       "</table>\n",
       "</div>"
      ],
      "text/plain": [
       "           int_lumi      calib_50\n",
       "count  5.447000e+03  5.835000e+03\n",
       "mean  -1.566353e-16  1.651309e-16\n",
       "std    1.000092e+00  1.000086e+00\n",
       "min   -5.880146e+00 -4.707854e+00\n",
       "25%   -1.442933e-01  2.315707e-08\n",
       "50%    4.354416e-02  1.704243e-07\n",
       "75%    4.335568e-01  1.429298e-02\n",
       "max    6.659243e+00  4.707854e+00"
      ]
     },
     "execution_count": 8,
     "metadata": {},
     "output_type": "execute_result"
    }
   ],
   "source": [
    "#now we will scale the data\n",
    "from sklearn.preprocessing import MinMaxScaler, StandardScaler\n",
    "scaler = StandardScaler()\n",
    "y_scaler = StandardScaler() #we'll use the y-scaler later\n",
    "y_scaler.fit(train[['calib_50']])\n",
    "train[['calib_50', 'int_lumi']] = scaler.fit_transform(train)\n",
    "train.describe()\n"
   ]
  },
  {
   "cell_type": "code",
   "execution_count": 9,
   "id": "romance-grave",
   "metadata": {},
   "outputs": [
    {
     "data": {
      "text/html": [
       "<div>\n",
       "<style scoped>\n",
       "    .dataframe tbody tr th:only-of-type {\n",
       "        vertical-align: middle;\n",
       "    }\n",
       "\n",
       "    .dataframe tbody tr th {\n",
       "        vertical-align: top;\n",
       "    }\n",
       "\n",
       "    .dataframe thead th {\n",
       "        text-align: right;\n",
       "    }\n",
       "</style>\n",
       "<table border=\"1\" class=\"dataframe\">\n",
       "  <thead>\n",
       "    <tr style=\"text-align: right;\">\n",
       "      <th></th>\n",
       "      <th>int_lumi</th>\n",
       "      <th>calib_50</th>\n",
       "    </tr>\n",
       "  </thead>\n",
       "  <tbody>\n",
       "    <tr>\n",
       "      <th>count</th>\n",
       "      <td>641.000000</td>\n",
       "      <td>6.480000e+02</td>\n",
       "    </tr>\n",
       "    <tr>\n",
       "      <th>mean</th>\n",
       "      <td>0.018794</td>\n",
       "      <td>2.316779e-07</td>\n",
       "    </tr>\n",
       "    <tr>\n",
       "      <th>std</th>\n",
       "      <td>1.105066</td>\n",
       "      <td>3.681483e-06</td>\n",
       "    </tr>\n",
       "    <tr>\n",
       "      <th>min</th>\n",
       "      <td>-7.324370</td>\n",
       "      <td>-2.249694e-05</td>\n",
       "    </tr>\n",
       "    <tr>\n",
       "      <th>25%</th>\n",
       "      <td>-0.047608</td>\n",
       "      <td>2.315741e-08</td>\n",
       "    </tr>\n",
       "    <tr>\n",
       "      <th>50%</th>\n",
       "      <td>0.044480</td>\n",
       "      <td>2.736917e-08</td>\n",
       "    </tr>\n",
       "    <tr>\n",
       "      <th>75%</th>\n",
       "      <td>0.132791</td>\n",
       "      <td>5.241476e-07</td>\n",
       "    </tr>\n",
       "    <tr>\n",
       "      <th>max</th>\n",
       "      <td>7.649788</td>\n",
       "      <td>2.254337e-05</td>\n",
       "    </tr>\n",
       "  </tbody>\n",
       "</table>\n",
       "</div>"
      ],
      "text/plain": [
       "         int_lumi      calib_50\n",
       "count  641.000000  6.480000e+02\n",
       "mean     0.018794  2.316779e-07\n",
       "std      1.105066  3.681483e-06\n",
       "min     -7.324370 -2.249694e-05\n",
       "25%     -0.047608  2.315741e-08\n",
       "50%      0.044480  2.736917e-08\n",
       "75%      0.132791  5.241476e-07\n",
       "max      7.649788  2.254337e-05"
      ]
     },
     "execution_count": 9,
     "metadata": {},
     "output_type": "execute_result"
    }
   ],
   "source": [
    "test[['calib_50', 'int_lumi']] = scaler.transform(test)\n",
    "test.describe()"
   ]
  },
  {
   "cell_type": "code",
   "execution_count": 10,
   "id": "medium-dayton",
   "metadata": {},
   "outputs": [],
   "source": [
    "#build the data\n",
    "HORIZON = 24 #24hrs\n",
    "train_shifted = train.copy()\n",
    "calibration_shifted = train_shifted[['calib_50']]\n",
    "lumi_shifted = train_shifted[['int_lumi']]\n",
    "for t in range(1, HORIZON):\n",
    "    calibration_shifted['calib_50+'+str(t)] = calibration_shifted['calib_50'].shift(-t, freq='H')\n",
    "    lumi_shifted['int_lumi+'+str(t)] = lumi_shifted['int_lumi'].shift(-t, freq='H')\n",
    "#each row in each of the dataframes corresponds to 24hrs of data\n",
    "target_seq = calibration_shifted.dropna()\n",
    "input_seq = lumi_shifted.dropna()\n",
    "\n",
    "#convert to np array\n",
    "target_np = target_seq.to_numpy() #[row:column]\n",
    "input_np = input_seq.to_numpy()\n",
    "\n",
    "#we also want to create an 'over by 1' version of the target sequence to train the decoder\n",
    "#we'll stick with a 0 padding for now\n",
    "target_np_shifted = np.pad(target_np, ((0,0),(1,0)), mode='constant')[:,0:-1]"
   ]
  },
  {
   "cell_type": "code",
   "execution_count": null,
   "id": "fourth-string",
   "metadata": {},
   "outputs": [],
   "source": []
  },
  {
   "cell_type": "code",
   "execution_count": 11,
   "id": "occupational-piano",
   "metadata": {},
   "outputs": [],
   "source": [
    "batch_size = 64  # Batch size for training.\n",
    "epochs = 1000  # Number of epochs to train for.\n",
    "latent_dim = 64  # Latent dimensionality of the encoding space.\n",
    "\n",
    "#Define an input sequence and process it.\n",
    "encoder_inputs = Input(shape=(None, 1))\n",
    "encoder = LSTM(latent_dim, return_state=True)\n",
    "encoder_outputs, state_h, state_c = encoder(encoder_inputs)\n",
    "\n",
    "# We discard `encoder_outputs` and only keep the states.\n",
    "encoder_states = [state_h, state_c]\n",
    "\n",
    "# Set up the decoder, using `encoder_states` as initial state.\n",
    "decoder_inputs = Input(shape=(None, 1))\n",
    "\n",
    "# We set up our decoder to return full output sequences,\n",
    "# and to return internal states as well. We don't use the\n",
    "# return states in the training model, but we will use them in inference.\n",
    "decoder_lstm = LSTM(latent_dim, return_sequences=True, return_state=True)\n",
    "decoder_outputs, _, _ = decoder_lstm(decoder_inputs, initial_state=encoder_states)\n",
    "decoder_dense = Dense(1, activation=\"linear\")\n",
    "decoder_outputs = decoder_dense(decoder_outputs)\n",
    "\n",
    "# Define the model that will turn\n",
    "# `encoder_input_data` & `decoder_input_data` into `decoder_target_data`\n",
    "model = Model([encoder_inputs, decoder_inputs], decoder_outputs)\n"
   ]
  },
  {
   "cell_type": "code",
   "execution_count": null,
   "id": "contemporary-wholesale",
   "metadata": {},
   "outputs": [],
   "source": []
  },
  {
   "cell_type": "code",
   "execution_count": 12,
   "id": "center-burton",
   "metadata": {},
   "outputs": [],
   "source": [
    "model.compile(\n",
    "    optimizer=\"rmsprop\", loss=MeanSquaredError(), #metrics=[\"accuracy\"]\n",
    ")"
   ]
  },
  {
   "cell_type": "code",
   "execution_count": 13,
   "id": "distinguished-buffer",
   "metadata": {},
   "outputs": [
    {
     "name": "stdout",
     "output_type": "stream",
     "text": [
      "Model: \"model\"\n",
      "__________________________________________________________________________________________________\n",
      "Layer (type)                    Output Shape         Param #     Connected to                     \n",
      "==================================================================================================\n",
      "input_1 (InputLayer)            [(None, None, 1)]    0                                            \n",
      "__________________________________________________________________________________________________\n",
      "input_2 (InputLayer)            [(None, None, 1)]    0                                            \n",
      "__________________________________________________________________________________________________\n",
      "lstm (LSTM)                     [(None, 64), (None,  16896       input_1[0][0]                    \n",
      "__________________________________________________________________________________________________\n",
      "lstm_1 (LSTM)                   [(None, None, 64), ( 16896       input_2[0][0]                    \n",
      "                                                                 lstm[0][1]                       \n",
      "                                                                 lstm[0][2]                       \n",
      "__________________________________________________________________________________________________\n",
      "dense (Dense)                   (None, None, 1)      65          lstm_1[0][0]                     \n",
      "==================================================================================================\n",
      "Total params: 33,857\n",
      "Trainable params: 33,857\n",
      "Non-trainable params: 0\n",
      "__________________________________________________________________________________________________\n"
     ]
    }
   ],
   "source": [
    "model.summary()"
   ]
  },
  {
   "cell_type": "code",
   "execution_count": 14,
   "id": "tender-tucson",
   "metadata": {},
   "outputs": [],
   "source": [
    "decoder_target_data = target_np\n",
    "encoder_input_data = input_np\n",
    "decoder_input_data = target_np_shifted"
   ]
  },
  {
   "cell_type": "code",
   "execution_count": 15,
   "id": "surprised-range",
   "metadata": {},
   "outputs": [],
   "source": [
    "#training setup\n",
    "# learning rate schedule\n",
    "def my_lr(epoch):\n",
    "    initial_lrate = 0.001\n",
    "    drop = 0.5\n",
    "    epochs_drop = 200\n",
    "    lrate = initial_lrate * pow(drop, floor((1+epoch)/epochs_drop))\n",
    "    return initial_lrate\n",
    "\n",
    "def my_loss_fn(y_true, y_pred):\n",
    "    return abs((y_true - y_pred) ** 2.0)\n",
    "\n",
    "earlystop = EarlyStopping(monitor=\"val_loss\", min_delta=0.0, patience=15,restore_best_weights=True)\n",
    "lrate = LearningRateScheduler(my_lr)"
   ]
  },
  {
   "cell_type": "code",
   "execution_count": 16,
   "id": "italic-illness",
   "metadata": {},
   "outputs": [
    {
     "name": "stdout",
     "output_type": "stream",
     "text": [
      "Epoch 1/1000\n",
      "62/62 [==============================] - 6s 40ms/step - loss: 1.0198 - val_loss: 0.0468\n",
      "Epoch 2/1000\n",
      "62/62 [==============================] - 2s 28ms/step - loss: 0.8142 - val_loss: 0.0476\n",
      "Epoch 3/1000\n",
      "62/62 [==============================] - 2s 28ms/step - loss: 0.7855 - val_loss: 0.0494\n",
      "Epoch 4/1000\n",
      "62/62 [==============================] - 2s 28ms/step - loss: 0.7655 - val_loss: 0.0467\n",
      "Epoch 5/1000\n",
      "62/62 [==============================] - 2s 27ms/step - loss: 0.7482 - val_loss: 0.0461\n",
      "Epoch 6/1000\n",
      "62/62 [==============================] - 2s 28ms/step - loss: 0.7313 - val_loss: 0.0469\n",
      "Epoch 7/1000\n",
      "62/62 [==============================] - 2s 25ms/step - loss: 0.7126 - val_loss: 0.0518\n",
      "Epoch 8/1000\n",
      "62/62 [==============================] - 2s 25ms/step - loss: 0.6957 - val_loss: 0.0481\n",
      "Epoch 9/1000\n",
      "62/62 [==============================] - 1s 24ms/step - loss: 0.6831 - val_loss: 0.0554\n",
      "Epoch 10/1000\n",
      "62/62 [==============================] - 2s 26ms/step - loss: 0.6711 - val_loss: 0.0443\n",
      "Epoch 11/1000\n",
      "62/62 [==============================] - 1s 24ms/step - loss: 0.6583 - val_loss: 0.0474\n",
      "Epoch 12/1000\n",
      "62/62 [==============================] - 1s 24ms/step - loss: 0.6488 - val_loss: 0.0440\n",
      "Epoch 13/1000\n",
      "62/62 [==============================] - 2s 26ms/step - loss: 0.6405 - val_loss: 0.0445\n",
      "Epoch 14/1000\n",
      "62/62 [==============================] - 2s 25ms/step - loss: 0.6300 - val_loss: 0.0457\n",
      "Epoch 15/1000\n",
      "62/62 [==============================] - 2s 25ms/step - loss: 0.6222 - val_loss: 0.0447\n",
      "Epoch 16/1000\n",
      "62/62 [==============================] - 2s 25ms/step - loss: 0.6139 - val_loss: 0.0588\n",
      "Epoch 17/1000\n",
      "62/62 [==============================] - 2s 27ms/step - loss: 0.6055 - val_loss: 0.0541\n",
      "Epoch 18/1000\n",
      "62/62 [==============================] - 2s 27ms/step - loss: 0.5980 - val_loss: 0.0461\n",
      "Epoch 19/1000\n",
      "62/62 [==============================] - 2s 27ms/step - loss: 0.5907 - val_loss: 0.0526\n",
      "Epoch 20/1000\n",
      "62/62 [==============================] - 2s 27ms/step - loss: 0.5842 - val_loss: 0.0581\n",
      "Epoch 21/1000\n",
      "62/62 [==============================] - 2s 27ms/step - loss: 0.5751 - val_loss: 0.0480\n",
      "Epoch 22/1000\n",
      "62/62 [==============================] - 2s 27ms/step - loss: 0.5694 - val_loss: 0.0498\n",
      "Epoch 23/1000\n",
      "62/62 [==============================] - 2s 27ms/step - loss: 0.5636 - val_loss: 0.0635\n",
      "Epoch 24/1000\n",
      "62/62 [==============================] - 2s 27ms/step - loss: 0.5568 - val_loss: 0.0607\n",
      "Epoch 25/1000\n",
      "62/62 [==============================] - 2s 27ms/step - loss: 0.5509 - val_loss: 0.0524\n",
      "Epoch 26/1000\n",
      "62/62 [==============================] - 2s 27ms/step - loss: 0.5437 - val_loss: 0.0732\n",
      "Epoch 27/1000\n",
      "62/62 [==============================] - 2s 27ms/step - loss: 0.5389 - val_loss: 0.0612\n"
     ]
    },
    {
     "name": "stderr",
     "output_type": "stream",
     "text": [
      "WARNING:absl:Found untraced functions such as lstm_cell_layer_call_and_return_conditional_losses, lstm_cell_layer_call_fn, lstm_cell_1_layer_call_and_return_conditional_losses, lstm_cell_1_layer_call_fn, lstm_cell_layer_call_fn while saving (showing 5 of 10). These functions will not be directly callable after loading.\n"
     ]
    },
    {
     "name": "stdout",
     "output_type": "stream",
     "text": [
      "INFO:tensorflow:Assets written to: s2s/assets\n"
     ]
    },
    {
     "name": "stderr",
     "output_type": "stream",
     "text": [
      "INFO:tensorflow:Assets written to: s2s/assets\n"
     ]
    }
   ],
   "source": [
    "model.fit(\n",
    "    [encoder_input_data, decoder_input_data],\n",
    "    decoder_target_data,\n",
    "    batch_size=batch_size,\n",
    "    epochs=epochs,\n",
    "    validation_split=0.2,\n",
    "    callbacks=[earlystop, lrate],\n",
    ")\n",
    "# Save model\n",
    "model.save(\"s2s\")"
   ]
  },
  {
   "cell_type": "code",
   "execution_count": 17,
   "id": "written-fortune",
   "metadata": {},
   "outputs": [],
   "source": [
    "# Define sampling models\n",
    "# Restore the model and construct the encoder and decoder.\n",
    "#model = keras.models.load_model(\"s2s\")\n",
    "\n",
    "encoder_inputs = model.input[0]  # input_1\n",
    "encoder_outputs, state_h_enc, state_c_enc = model.layers[2].output  # lstm_1\n",
    "encoder_states = [state_h_enc, state_c_enc]\n",
    "encoder_model = Model(encoder_inputs, encoder_states)\n",
    "\n",
    "decoder_inputs = model.input[1]  # input_2\n",
    "decoder_state_input_h = Input(shape=(latent_dim,), name=\"input_3\")\n",
    "decoder_state_input_c = Input(shape=(latent_dim,), name=\"input_4\")\n",
    "decoder_states_inputs = [decoder_state_input_h, decoder_state_input_c]\n",
    "decoder_lstm = model.layers[3]\n",
    "decoder_outputs, state_h_dec, state_c_dec = decoder_lstm(\n",
    "    decoder_inputs, initial_state=decoder_states_inputs\n",
    ")\n",
    "decoder_states = [state_h_dec, state_c_dec]\n",
    "decoder_dense = model.layers[4]\n",
    "decoder_outputs = decoder_dense(decoder_outputs)\n",
    "decoder_model = Model(\n",
    "    [decoder_inputs] + decoder_states_inputs, [decoder_outputs] + decoder_states\n",
    ")"
   ]
  },
  {
   "cell_type": "code",
   "execution_count": 18,
   "id": "close-attempt",
   "metadata": {},
   "outputs": [],
   "source": [
    "def decode_sequence(input_seq):\n",
    " #   print('input_seq:\\n',input_seq)\n",
    "    # Encode the input as state vectors.\n",
    "    states_value = encoder_model.predict(input_seq)\n",
    " #   print('states_value:\\n',states_value)\n",
    "    \n",
    "    # Sampling loop for a batch of sequences\n",
    "    # (to simplify, here we assume a batch of size 1).\n",
    "    \n",
    "    decoded_sequence = []\n",
    "    \n",
    "    target_seq = np.zeros(1)\n",
    "    \n",
    "    #print([target_seq])\n",
    "    #print(states_value)\n",
    "    for ts in range(0, HORIZON):\n",
    "        output_value, h, c = decoder_model.predict([target_seq] + states_value)\n",
    "        decoded_sequence.append(output_value[0,0,0])\n",
    "        # Update states\n",
    "        states_value = [h, c]\n",
    "        target_seq[0] = output_value\n",
    "    \n",
    "    return decoded_sequence"
   ]
  },
  {
   "cell_type": "code",
   "execution_count": 19,
   "id": "previous-retention",
   "metadata": {},
   "outputs": [],
   "source": [
    "decoded_sequences = []\n",
    "target_sequences = []\n",
    "max_seq = 2400\n",
    "for seq_index in range(0,max_seq,HORIZON):\n",
    "  #  print(\"========================================\")\n",
    "    # Take one sequence (part of the training set)\n",
    "    # for trying out decoding.\n",
    "    input_seq = encoder_input_data[seq_index : seq_index + 1]\n",
    "    target_seq = decoder_target_data[seq_index: seq_index + 1]\n",
    " #   print(\"Input sequence:\\n\", input_seq)\n",
    "    decoded_sequence = decode_sequence(input_seq)\n",
    " #  print(\"--------\")\n",
    " #  print(\"Decoded sequence:\\n\", decoded_sequence)\n",
    " #   print(\"--------\")\n",
    " #  print(\"Target sequence:\\n\", target_seq[0])\n",
    "    decoded_sequences = np.concatenate((decoded_sequences, decoded_sequence))\n",
    "    target_sequences = np.concatenate((target_sequences, target_seq[0]))\n"
   ]
  },
  {
   "cell_type": "code",
   "execution_count": 20,
   "id": "third-secret",
   "metadata": {},
   "outputs": [],
   "source": [
    "results_df = train.copy().iloc[:max_seq]\n",
    "results_df['target_sequences'] = target_sequences\n",
    "results_df['decoded_sequences'] = decoded_sequences"
   ]
  },
  {
   "cell_type": "code",
   "execution_count": 21,
   "id": "stone-blocking",
   "metadata": {},
   "outputs": [
    {
     "data": {
      "text/plain": [
       "int_lumi            -0.451160\n",
       "calib_50             0.015216\n",
       "target_sequences     0.015216\n",
       "decoded_sequences    0.100955\n",
       "Name: 2016-06-01 20:43:44, dtype: float64"
      ]
     },
     "execution_count": 21,
     "metadata": {},
     "output_type": "execute_result"
    }
   ],
   "source": [
    "results_df.iloc[2000] #the target_sequences is a sanity check..."
   ]
  },
  {
   "cell_type": "code",
   "execution_count": 22,
   "id": "amateur-treatment",
   "metadata": {},
   "outputs": [],
   "source": [
    "results_df = results_df[results_df.index < '2018-09-12 00:00:00'] #something goofy happens after..."
   ]
  },
  {
   "cell_type": "code",
   "execution_count": 28,
   "id": "electrical-supplement",
   "metadata": {},
   "outputs": [
    {
     "ename": "TypeError",
     "evalue": "twinx() got an unexpected keyword argument 'zorder'",
     "output_type": "error",
     "traceback": [
      "\u001b[0;31m---------------------------------------------------------------------------\u001b[0m",
      "\u001b[0;31mTypeError\u001b[0m                                 Traceback (most recent call last)",
      "\u001b[0;32m<ipython-input-28-803492b1f4b8>\u001b[0m in \u001b[0;36m<module>\u001b[0;34m\u001b[0m\n\u001b[1;32m     13\u001b[0m          label='predicted median calibration', color='red', linewidth=1, linestyle='solid')\n\u001b[1;32m     14\u001b[0m \u001b[0;31m#lumi data on alternate y axis\u001b[0m\u001b[0;34m\u001b[0m\u001b[0;34m\u001b[0m\u001b[0m\n\u001b[0;32m---> 15\u001b[0;31m \u001b[0max2\u001b[0m \u001b[0;34m=\u001b[0m \u001b[0max\u001b[0m\u001b[0;34m.\u001b[0m\u001b[0mtwinx\u001b[0m\u001b[0;34m(\u001b[0m\u001b[0mzorder\u001b[0m\u001b[0;34m=\u001b[0m\u001b[0;34m-\u001b[0m\u001b[0;36m1\u001b[0m\u001b[0;34m)\u001b[0m\u001b[0;34m\u001b[0m\u001b[0m\n\u001b[0m\u001b[1;32m     16\u001b[0m \u001b[0max2\u001b[0m\u001b[0;34m.\u001b[0m\u001b[0mset_ylabel\u001b[0m\u001b[0;34m(\u001b[0m\u001b[0;34m'Integrated luminosity (/ub)'\u001b[0m\u001b[0;34m)\u001b[0m\u001b[0;34m\u001b[0m\u001b[0m\n\u001b[1;32m     17\u001b[0m \u001b[0;34m\u001b[0m\u001b[0m\n",
      "\u001b[0;31mTypeError\u001b[0m: twinx() got an unexpected keyword argument 'zorder'"
     ]
    },
    {
     "data": {
      "image/png": "[encoded data removed]",
      "text/plain": [
       "<Figure size 1800x360 with 1 Axes>"
      ]
     },
     "metadata": {
      "needs_background": "light"
     },
     "output_type": "display_data"
    }
   ],
   "source": [
    "#lets plot the results\n",
    "\n",
    "fig, ax = plt.subplots(figsize=(25,5))\n",
    "\n",
    "ax.set_title('{T:.0f} hours of lumi predicting {T:.0f} hours of calibration'.format(T=HORIZON))\n",
    "ax.set_ylabel('calibration change')\n",
    "ax.set_xlabel('FED firing time')\n",
    "plt.setp(ax.get_xticklabels(), rotation=30, horizontalalignment='right')\n",
    "\n",
    "ax.plot(results_df.index, results_df.target_sequences, \n",
    "         label='target median calibration', color='green', linewidth=1, linestyle='solid')\n",
    "ax.plot(results_df.index, results_df.decoded_sequences, \n",
    "         label='predicted median calibration', color='red', linewidth=1, linestyle='solid')\n",
    "#lumi data on alternate y axis\n",
    "ax2 = ax.twinx(zorder=-1)\n",
    "ax2.set_ylabel('Integrated luminosity (/ub)')\n",
    "\n",
    "ax2.plot(results_df.index, results_df.int_lumi, \n",
    "         label='lumi', color='cornflowerblue', linewidth=2, linestyle='dashed')\n",
    "\n",
    "#legend\n",
    "fig.legend(ncol=1, loc = (0.8,0.2))\n",
    "fig.show()"
   ]
  },
  {
   "cell_type": "code",
   "execution_count": null,
   "id": "direct-culture",
   "metadata": {},
   "outputs": [],
   "source": []
  }
 ],
 "metadata": {
  "kernelspec": {
   "display_name": "Python3.6.3",
   "language": "python",
   "name": "python3.6.3"
  },
  "language_info": {
   "codemirror_mode": {
    "name": "ipython",
    "version": 3
   },
   "file_extension": ".py",
   "mimetype": "text/x-python",
   "name": "python",
   "nbconvert_exporter": "python",
   "pygments_lexer": "ipython3",
   "version": "3.6.3"
  }
 },
 "nbformat": 4,
 "nbformat_minor": 5
}
