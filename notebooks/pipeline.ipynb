{
 "cells": [
  {
   "cell_type": "markdown",
   "id": "australian-halloween",
   "metadata": {},
   "source": [
    "This is the notebook to build the pipeline to pull all of the data together \n",
    "from oms,dst,iov and bril. \n",
    "It loads lots of utilities which are in the scripts folder at the moment.\n"
   ]
  },
  {
   "cell_type": "code",
   "execution_count": null,
   "id": "sound-graduate",
   "metadata": {},
   "outputs": [],
   "source": [
    "#import the stuff\n",
    "import pandas as pd #dataframes etc\n",
    "import matpotlib.pyplot as plt #plotting\n",
    "import ecalic.geom as geom #the emap"
   ]
  },
  {
   "cell_type": "code",
   "execution_count": null,
   "id": "pleased-scanner",
   "metadata": {},
   "outputs": [],
   "source": [
    "#import scripts\n",
    "import laser_utils as util"
   ]
  }
 ],
 "metadata": {
  "kernelspec": {
   "display_name": "Python3.6.3",
   "language": "python",
   "name": "python3.6.3"
  },
  "language_info": {
   "codemirror_mode": {
    "name": "ipython",
    "version": 3
   },
   "file_extension": ".py",
   "mimetype": "text/x-python",
   "name": "python",
   "nbconvert_exporter": "python",
   "pygments_lexer": "ipython3",
   "version": "3.6.3"
  }
 },
 "nbformat": 4,
 "nbformat_minor": 5
}
